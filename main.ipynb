{
 "cells": [
  {
   "cell_type": "markdown",
   "id": "00440bd4",
   "metadata": {},
   "source": [
    "Chargerment du fichier appartements_data_db.csv avec Pandas"
   ]
  },
  {
   "cell_type": "code",
   "execution_count": 1,
   "id": "de550a8c",
   "metadata": {},
   "outputs": [
    {
     "name": "stdout",
     "output_type": "stream",
     "text": [
      "<class 'pandas.core.frame.DataFrame'>\n",
      "RangeIndex: 1773 entries, 0 to 1772\n",
      "Data columns (total 9 columns):\n",
      " #   Column        Non-Null Count  Dtype  \n",
      "---  ------        --------------  -----  \n",
      " 0   title         1772 non-null   object \n",
      " 1   price         1490 non-null   object \n",
      " 2   city_name     1772 non-null   object \n",
      " 3   salon         1620 non-null   float64\n",
      " 4   nb_rooms      1490 non-null   float64\n",
      " 5   nb_baths      1480 non-null   float64\n",
      " 6   surface_area  1742 non-null   float64\n",
      " 7   equipment     1402 non-null   object \n",
      " 8   link          1773 non-null   object \n",
      "dtypes: float64(4), object(5)\n",
      "memory usage: 124.8+ KB\n",
      "None\n"
     ]
    }
   ],
   "source": [
    "import pandas as pd\n",
    "\n",
    "df = pd.read_csv('appartements_data_db.csv')\n",
    "print(df.info())"
   ]
  },
  {
   "cell_type": "code",
   "execution_count": 2,
   "id": "d41795f7",
   "metadata": {},
   "outputs": [
    {
     "name": "stdout",
     "output_type": "stream",
     "text": [
      "                                               title         price  \\\n",
      "0       CMN-MA-1752 - Appartement à vendre à Palmier  2 000 000 DH   \n",
      "1  66370-Vente Appt à Casablanca Hay Hassani de 1...  1 195 000 DH   \n",
      "2           Appartement à vendre 81 m² à Dar Bouazza  1 350 000 DH   \n",
      "3  63860-Vente Appt à Casablanca Quartier Bd Med ...    900 000 DH   \n",
      "4                          Appartement à Rabat Agdal  3 100 000 DH   \n",
      "\n",
      "     city_name  salon  nb_rooms  nb_baths  surface_area  \\\n",
      "0   Casablanca    NaN       2.0       2.0         168.0   \n",
      "1   Casablanca    NaN       2.0       2.0          98.0   \n",
      "2  Dar Bouazza    1.0       2.0       2.0          81.0   \n",
      "3   Casablanca    NaN       1.0       1.0          56.0   \n",
      "4        Rabat    2.0       3.0       2.0         200.0   \n",
      "\n",
      "                                           equipment  \\\n",
      "0                  Ascenseur/Balcon/Parking/Terrasse   \n",
      "1  Ascenseur/Balcon/Chauffage/Climatisation/Cuisi...   \n",
      "2  Ascenseur/Balcon/Chauffage/Climatisation/Conci...   \n",
      "3  Ascenseur/Chauffage/Climatisation/Cuisine Équi...   \n",
      "4        Ascenseur/Balcon/Concierge/Parking/Sécurité   \n",
      "\n",
      "                                                link  \n",
      "0  https://www.avito.ma/fr/palmier/appartements/C...  \n",
      "1  https://www.avito.ma/fr/hay_hassani/appartemen...  \n",
      "2  https://www.avito.ma/fr/dar_bouazza/appartemen...  \n",
      "3  https://www.avito.ma/fr/centre_ville/apparteme...  \n",
      "4  https://www.avito.ma/fr/agdal/appartements/App...  \n"
     ]
    }
   ],
   "source": [
    "print(df.head())"
   ]
  },
  {
   "cell_type": "code",
   "execution_count": 3,
   "id": "59ceba61",
   "metadata": {},
   "outputs": [
    {
     "data": {
      "text/html": [
       "<div>\n",
       "<style scoped>\n",
       "    .dataframe tbody tr th:only-of-type {\n",
       "        vertical-align: middle;\n",
       "    }\n",
       "\n",
       "    .dataframe tbody tr th {\n",
       "        vertical-align: top;\n",
       "    }\n",
       "\n",
       "    .dataframe thead th {\n",
       "        text-align: right;\n",
       "    }\n",
       "</style>\n",
       "<table border=\"1\" class=\"dataframe\">\n",
       "  <thead>\n",
       "    <tr style=\"text-align: right;\">\n",
       "      <th></th>\n",
       "      <th>salon</th>\n",
       "      <th>nb_rooms</th>\n",
       "      <th>nb_baths</th>\n",
       "      <th>surface_area</th>\n",
       "    </tr>\n",
       "  </thead>\n",
       "  <tbody>\n",
       "    <tr>\n",
       "      <th>count</th>\n",
       "      <td>1620.000000</td>\n",
       "      <td>1490.000000</td>\n",
       "      <td>1480.000000</td>\n",
       "      <td>1742.000000</td>\n",
       "    </tr>\n",
       "    <tr>\n",
       "      <th>mean</th>\n",
       "      <td>1.267284</td>\n",
       "      <td>2.379195</td>\n",
       "      <td>2.307432</td>\n",
       "      <td>174.933410</td>\n",
       "    </tr>\n",
       "    <tr>\n",
       "      <th>std</th>\n",
       "      <td>0.557539</td>\n",
       "      <td>0.667159</td>\n",
       "      <td>7.629128</td>\n",
       "      <td>2969.500693</td>\n",
       "    </tr>\n",
       "    <tr>\n",
       "      <th>min</th>\n",
       "      <td>0.000000</td>\n",
       "      <td>1.000000</td>\n",
       "      <td>0.000000</td>\n",
       "      <td>1.000000</td>\n",
       "    </tr>\n",
       "    <tr>\n",
       "      <th>25%</th>\n",
       "      <td>1.000000</td>\n",
       "      <td>2.000000</td>\n",
       "      <td>1.000000</td>\n",
       "      <td>71.000000</td>\n",
       "    </tr>\n",
       "    <tr>\n",
       "      <th>50%</th>\n",
       "      <td>1.000000</td>\n",
       "      <td>2.000000</td>\n",
       "      <td>2.000000</td>\n",
       "      <td>89.000000</td>\n",
       "    </tr>\n",
       "    <tr>\n",
       "      <th>75%</th>\n",
       "      <td>1.000000</td>\n",
       "      <td>3.000000</td>\n",
       "      <td>2.000000</td>\n",
       "      <td>114.750000</td>\n",
       "    </tr>\n",
       "    <tr>\n",
       "      <th>max</th>\n",
       "      <td>8.000000</td>\n",
       "      <td>7.000000</td>\n",
       "      <td>134.000000</td>\n",
       "      <td>123456.000000</td>\n",
       "    </tr>\n",
       "  </tbody>\n",
       "</table>\n",
       "</div>"
      ],
      "text/plain": [
       "             salon     nb_rooms     nb_baths   surface_area\n",
       "count  1620.000000  1490.000000  1480.000000    1742.000000\n",
       "mean      1.267284     2.379195     2.307432     174.933410\n",
       "std       0.557539     0.667159     7.629128    2969.500693\n",
       "min       0.000000     1.000000     0.000000       1.000000\n",
       "25%       1.000000     2.000000     1.000000      71.000000\n",
       "50%       1.000000     2.000000     2.000000      89.000000\n",
       "75%       1.000000     3.000000     2.000000     114.750000\n",
       "max       8.000000     7.000000   134.000000  123456.000000"
      ]
     },
     "execution_count": 3,
     "metadata": {},
     "output_type": "execute_result"
    }
   ],
   "source": [
    "df.describe()"
   ]
  },
  {
   "cell_type": "markdown",
   "id": "8eff2941",
   "metadata": {},
   "source": [
    "Identifier les valeurs manquantes et les doublons"
   ]
  },
  {
   "cell_type": "code",
   "execution_count": 4,
   "id": "f6d9f94a",
   "metadata": {},
   "outputs": [
    {
     "data": {
      "text/plain": [
       "title             1\n",
       "price           283\n",
       "city_name         1\n",
       "salon           153\n",
       "nb_rooms        283\n",
       "nb_baths        293\n",
       "surface_area     31\n",
       "equipment       371\n",
       "link              0\n",
       "dtype: int64"
      ]
     },
     "execution_count": 4,
     "metadata": {},
     "output_type": "execute_result"
    }
   ],
   "source": [
    "df.isnull().sum()"
   ]
  },
  {
   "cell_type": "code",
   "execution_count": 5,
   "id": "39fea949",
   "metadata": {},
   "outputs": [
    {
     "data": {
      "text/plain": [
       "np.int64(41)"
      ]
     },
     "execution_count": 5,
     "metadata": {},
     "output_type": "execute_result"
    }
   ],
   "source": [
    "df.duplicated().sum()"
   ]
  },
  {
   "cell_type": "markdown",
   "id": "d28a93b0",
   "metadata": {},
   "source": [
    "Analyser la distribution des variables numériques"
   ]
  },
  {
   "cell_type": "code",
   "execution_count": 6,
   "id": "33240213",
   "metadata": {},
   "outputs": [
    {
     "name": "stdout",
     "output_type": "stream",
     "text": [
      "                       title       price   city_name        salon  \\\n",
      "count                   1772        1490        1772  1620.000000   \n",
      "unique                  1471         355          77          NaN   \n",
      "top     appartement à vendre  850 000 DH  Casablanca          NaN   \n",
      "freq                      33          34         626          NaN   \n",
      "mean                     NaN         NaN         NaN     1.267284   \n",
      "std                      NaN         NaN         NaN     0.557539   \n",
      "min                      NaN         NaN         NaN     0.000000   \n",
      "25%                      NaN         NaN         NaN     1.000000   \n",
      "50%                      NaN         NaN         NaN     1.000000   \n",
      "75%                      NaN         NaN         NaN     1.000000   \n",
      "max                      NaN         NaN         NaN     8.000000   \n",
      "\n",
      "           nb_rooms     nb_baths   surface_area  \\\n",
      "count   1490.000000  1480.000000    1742.000000   \n",
      "unique          NaN          NaN            NaN   \n",
      "top             NaN          NaN            NaN   \n",
      "freq            NaN          NaN            NaN   \n",
      "mean       2.379195     2.307432     174.933410   \n",
      "std        0.667159     7.629128    2969.500693   \n",
      "min        1.000000     0.000000       1.000000   \n",
      "25%        2.000000     1.000000      71.000000   \n",
      "50%        2.000000     2.000000      89.000000   \n",
      "75%        3.000000     2.000000     114.750000   \n",
      "max        7.000000   134.000000  123456.000000   \n",
      "\n",
      "                                                equipment  \\\n",
      "count                                                1402   \n",
      "unique                                                321   \n",
      "top     Ascenseur/Balcon/Chauffage/Climatisation/Conci...   \n",
      "freq                                                   84   \n",
      "mean                                                  NaN   \n",
      "std                                                   NaN   \n",
      "min                                                   NaN   \n",
      "25%                                                   NaN   \n",
      "50%                                                   NaN   \n",
      "75%                                                   NaN   \n",
      "max                                                   NaN   \n",
      "\n",
      "                                        link  \n",
      "count                                   1773  \n",
      "unique                                  1732  \n",
      "top     https://www.avito.ma/vi/55595022.htm  \n",
      "freq                                       4  \n",
      "mean                                     NaN  \n",
      "std                                      NaN  \n",
      "min                                      NaN  \n",
      "25%                                      NaN  \n",
      "50%                                      NaN  \n",
      "75%                                      NaN  \n",
      "max                                      NaN  \n"
     ]
    }
   ],
   "source": [
    "# Version plus détaillée (incluant la médiane)\n",
    "print(df.describe(include='all'))"
   ]
  },
  {
   "cell_type": "code",
   "execution_count": 7,
   "id": "af9a74c8",
   "metadata": {},
   "outputs": [
    {
     "name": "stdout",
     "output_type": "stream",
     "text": [
      "count           1490\n",
      "unique           355\n",
      "top       850 000 DH\n",
      "freq              34\n",
      "Name: price, dtype: object\n"
     ]
    },
    {
     "data": {
      "image/png": "[encoded data removed]",
      "text/plain": [
       "<Figure size 1200x400 with 2 Axes>"
      ]
     },
     "metadata": {},
     "output_type": "display_data"
    }
   ],
   "source": [
    "# Statistiques\n",
    "from matplotlib import pyplot as plt\n",
    "import seaborn as sns\n",
    "\n",
    "print(df['price'].describe())\n",
    "\n",
    "# Visualisation\n",
    "plt.figure(figsize=(12, 4))\n",
    "plt.subplot(1, 2, 1)\n",
    "sns.histplot(df['price'], kde=True, bins=30)\n",
    "plt.title('Histogramme du price')\n",
    "\n",
    "plt.subplot(1, 2, 2)\n",
    "sns.boxplot(y=df['price'])\n",
    "plt.title('Boxplot du price')\n",
    "\n",
    "plt.tight_layout()\n",
    "plt.show()"
   ]
  },
  {
   "cell_type": "markdown",
   "id": "26e77000",
   "metadata": {},
   "source": [
    "Prétraitement des données "
   ]
  },
  {
   "cell_type": "markdown",
   "id": "285e8e9d",
   "metadata": {},
   "source": [
    "--> Nettoyage & Transformation "
   ]
  },
  {
   "cell_type": "markdown",
   "id": "69c86bbb",
   "metadata": {},
   "source": [
    "1. Extraction des Équipements (equipment) en Colonnes Booléennes"
   ]
  },
  {
   "cell_type": "code",
   "execution_count": 8,
   "id": "651b44dd",
   "metadata": {},
   "outputs": [],
   "source": [
    "df_equipment = df['equipment'].str.get_dummies(sep='/')\n",
    "df = pd.concat([df, df_equipment], axis=1)\n",
    "\n",
    "df.drop('equipment', axis=1, inplace=True)\n",
    "df.drop('link', axis=1, inplace=True)\n",
    "df.drop('title', axis=1, inplace=True)"
   ]
  },
  {
   "cell_type": "code",
   "execution_count": 9,
   "id": "16a22fb7",
   "metadata": {},
   "outputs": [
    {
     "data": {
      "text/html": [
       "<div>\n",
       "<style scoped>\n",
       "    .dataframe tbody tr th:only-of-type {\n",
       "        vertical-align: middle;\n",
       "    }\n",
       "\n",
       "    .dataframe tbody tr th {\n",
       "        vertical-align: top;\n",
       "    }\n",
       "\n",
       "    .dataframe thead th {\n",
       "        text-align: right;\n",
       "    }\n",
       "</style>\n",
       "<table border=\"1\" class=\"dataframe\">\n",
       "  <thead>\n",
       "    <tr style=\"text-align: right;\">\n",
       "      <th></th>\n",
       "      <th>price</th>\n",
       "      <th>city_name</th>\n",
       "      <th>salon</th>\n",
       "      <th>nb_rooms</th>\n",
       "      <th>nb_baths</th>\n",
       "      <th>surface_area</th>\n",
       "      <th>Ascenseur</th>\n",
       "      <th>Balcon</th>\n",
       "      <th>Chauffage</th>\n",
       "      <th>Climatisation</th>\n",
       "      <th>Concierge</th>\n",
       "      <th>Cuisine Équipée</th>\n",
       "      <th>Duplex</th>\n",
       "      <th>Meublé</th>\n",
       "      <th>Parking</th>\n",
       "      <th>Sécurité</th>\n",
       "      <th>Terrasse</th>\n",
       "    </tr>\n",
       "  </thead>\n",
       "  <tbody>\n",
       "    <tr>\n",
       "      <th>0</th>\n",
       "      <td>2 000 000 DH</td>\n",
       "      <td>Casablanca</td>\n",
       "      <td>NaN</td>\n",
       "      <td>2.0</td>\n",
       "      <td>2.0</td>\n",
       "      <td>168.0</td>\n",
       "      <td>1</td>\n",
       "      <td>1</td>\n",
       "      <td>0</td>\n",
       "      <td>0</td>\n",
       "      <td>0</td>\n",
       "      <td>0</td>\n",
       "      <td>0</td>\n",
       "      <td>0</td>\n",
       "      <td>1</td>\n",
       "      <td>0</td>\n",
       "      <td>1</td>\n",
       "    </tr>\n",
       "    <tr>\n",
       "      <th>1</th>\n",
       "      <td>1 195 000 DH</td>\n",
       "      <td>Casablanca</td>\n",
       "      <td>NaN</td>\n",
       "      <td>2.0</td>\n",
       "      <td>2.0</td>\n",
       "      <td>98.0</td>\n",
       "      <td>1</td>\n",
       "      <td>1</td>\n",
       "      <td>1</td>\n",
       "      <td>1</td>\n",
       "      <td>0</td>\n",
       "      <td>1</td>\n",
       "      <td>0</td>\n",
       "      <td>0</td>\n",
       "      <td>1</td>\n",
       "      <td>0</td>\n",
       "      <td>0</td>\n",
       "    </tr>\n",
       "    <tr>\n",
       "      <th>2</th>\n",
       "      <td>1 350 000 DH</td>\n",
       "      <td>Dar Bouazza</td>\n",
       "      <td>1.0</td>\n",
       "      <td>2.0</td>\n",
       "      <td>2.0</td>\n",
       "      <td>81.0</td>\n",
       "      <td>1</td>\n",
       "      <td>1</td>\n",
       "      <td>1</td>\n",
       "      <td>1</td>\n",
       "      <td>1</td>\n",
       "      <td>1</td>\n",
       "      <td>1</td>\n",
       "      <td>0</td>\n",
       "      <td>1</td>\n",
       "      <td>1</td>\n",
       "      <td>1</td>\n",
       "    </tr>\n",
       "    <tr>\n",
       "      <th>3</th>\n",
       "      <td>900 000 DH</td>\n",
       "      <td>Casablanca</td>\n",
       "      <td>NaN</td>\n",
       "      <td>1.0</td>\n",
       "      <td>1.0</td>\n",
       "      <td>56.0</td>\n",
       "      <td>1</td>\n",
       "      <td>0</td>\n",
       "      <td>1</td>\n",
       "      <td>1</td>\n",
       "      <td>0</td>\n",
       "      <td>1</td>\n",
       "      <td>0</td>\n",
       "      <td>1</td>\n",
       "      <td>1</td>\n",
       "      <td>1</td>\n",
       "      <td>1</td>\n",
       "    </tr>\n",
       "    <tr>\n",
       "      <th>4</th>\n",
       "      <td>3 100 000 DH</td>\n",
       "      <td>Rabat</td>\n",
       "      <td>2.0</td>\n",
       "      <td>3.0</td>\n",
       "      <td>2.0</td>\n",
       "      <td>200.0</td>\n",
       "      <td>1</td>\n",
       "      <td>1</td>\n",
       "      <td>0</td>\n",
       "      <td>0</td>\n",
       "      <td>1</td>\n",
       "      <td>0</td>\n",
       "      <td>0</td>\n",
       "      <td>0</td>\n",
       "      <td>1</td>\n",
       "      <td>1</td>\n",
       "      <td>0</td>\n",
       "    </tr>\n",
       "    <tr>\n",
       "      <th>...</th>\n",
       "      <td>...</td>\n",
       "      <td>...</td>\n",
       "      <td>...</td>\n",
       "      <td>...</td>\n",
       "      <td>...</td>\n",
       "      <td>...</td>\n",
       "      <td>...</td>\n",
       "      <td>...</td>\n",
       "      <td>...</td>\n",
       "      <td>...</td>\n",
       "      <td>...</td>\n",
       "      <td>...</td>\n",
       "      <td>...</td>\n",
       "      <td>...</td>\n",
       "      <td>...</td>\n",
       "      <td>...</td>\n",
       "      <td>...</td>\n",
       "    </tr>\n",
       "    <tr>\n",
       "      <th>1768</th>\n",
       "      <td>NaN</td>\n",
       "      <td>Agadir</td>\n",
       "      <td>1.0</td>\n",
       "      <td>NaN</td>\n",
       "      <td>NaN</td>\n",
       "      <td>62.0</td>\n",
       "      <td>1</td>\n",
       "      <td>1</td>\n",
       "      <td>0</td>\n",
       "      <td>0</td>\n",
       "      <td>0</td>\n",
       "      <td>1</td>\n",
       "      <td>0</td>\n",
       "      <td>0</td>\n",
       "      <td>1</td>\n",
       "      <td>1</td>\n",
       "      <td>0</td>\n",
       "    </tr>\n",
       "    <tr>\n",
       "      <th>1769</th>\n",
       "      <td>NaN</td>\n",
       "      <td>Agadir</td>\n",
       "      <td>2.0</td>\n",
       "      <td>NaN</td>\n",
       "      <td>NaN</td>\n",
       "      <td>110.0</td>\n",
       "      <td>1</td>\n",
       "      <td>0</td>\n",
       "      <td>0</td>\n",
       "      <td>0</td>\n",
       "      <td>0</td>\n",
       "      <td>0</td>\n",
       "      <td>0</td>\n",
       "      <td>0</td>\n",
       "      <td>1</td>\n",
       "      <td>0</td>\n",
       "      <td>0</td>\n",
       "    </tr>\n",
       "    <tr>\n",
       "      <th>1770</th>\n",
       "      <td>NaN</td>\n",
       "      <td>Temara</td>\n",
       "      <td>2.0</td>\n",
       "      <td>NaN</td>\n",
       "      <td>NaN</td>\n",
       "      <td>12000.0</td>\n",
       "      <td>1</td>\n",
       "      <td>1</td>\n",
       "      <td>0</td>\n",
       "      <td>0</td>\n",
       "      <td>0</td>\n",
       "      <td>0</td>\n",
       "      <td>0</td>\n",
       "      <td>0</td>\n",
       "      <td>1</td>\n",
       "      <td>1</td>\n",
       "      <td>0</td>\n",
       "    </tr>\n",
       "    <tr>\n",
       "      <th>1771</th>\n",
       "      <td>700 000 DH</td>\n",
       "      <td>Casablanca</td>\n",
       "      <td>1.0</td>\n",
       "      <td>2.0</td>\n",
       "      <td>2.0</td>\n",
       "      <td>84.0</td>\n",
       "      <td>0</td>\n",
       "      <td>0</td>\n",
       "      <td>0</td>\n",
       "      <td>0</td>\n",
       "      <td>0</td>\n",
       "      <td>1</td>\n",
       "      <td>0</td>\n",
       "      <td>0</td>\n",
       "      <td>1</td>\n",
       "      <td>1</td>\n",
       "      <td>0</td>\n",
       "    </tr>\n",
       "    <tr>\n",
       "      <th>1772</th>\n",
       "      <td>1 200 000 DH</td>\n",
       "      <td>Temara</td>\n",
       "      <td>1.0</td>\n",
       "      <td>2.0</td>\n",
       "      <td>2.0</td>\n",
       "      <td>84.0</td>\n",
       "      <td>1</td>\n",
       "      <td>1</td>\n",
       "      <td>0</td>\n",
       "      <td>1</td>\n",
       "      <td>1</td>\n",
       "      <td>1</td>\n",
       "      <td>0</td>\n",
       "      <td>0</td>\n",
       "      <td>1</td>\n",
       "      <td>1</td>\n",
       "      <td>1</td>\n",
       "    </tr>\n",
       "  </tbody>\n",
       "</table>\n",
       "<p>1773 rows × 17 columns</p>\n",
       "</div>"
      ],
      "text/plain": [
       "             price    city_name  salon  nb_rooms  nb_baths  surface_area  \\\n",
       "0     2 000 000 DH   Casablanca    NaN       2.0       2.0         168.0   \n",
       "1     1 195 000 DH   Casablanca    NaN       2.0       2.0          98.0   \n",
       "2     1 350 000 DH  Dar Bouazza    1.0       2.0       2.0          81.0   \n",
       "3       900 000 DH   Casablanca    NaN       1.0       1.0          56.0   \n",
       "4     3 100 000 DH        Rabat    2.0       3.0       2.0         200.0   \n",
       "...            ...          ...    ...       ...       ...           ...   \n",
       "1768           NaN       Agadir    1.0       NaN       NaN          62.0   \n",
       "1769           NaN       Agadir    2.0       NaN       NaN         110.0   \n",
       "1770           NaN       Temara    2.0       NaN       NaN       12000.0   \n",
       "1771    700 000 DH   Casablanca    1.0       2.0       2.0          84.0   \n",
       "1772  1 200 000 DH       Temara    1.0       2.0       2.0          84.0   \n",
       "\n",
       "      Ascenseur  Balcon  Chauffage  Climatisation  Concierge  Cuisine Équipée  \\\n",
       "0             1       1          0              0          0                0   \n",
       "1             1       1          1              1          0                1   \n",
       "2             1       1          1              1          1                1   \n",
       "3             1       0          1              1          0                1   \n",
       "4             1       1          0              0          1                0   \n",
       "...         ...     ...        ...            ...        ...              ...   \n",
       "1768          1       1          0              0          0                1   \n",
       "1769          1       0          0              0          0                0   \n",
       "1770          1       1          0              0          0                0   \n",
       "1771          0       0          0              0          0                1   \n",
       "1772          1       1          0              1          1                1   \n",
       "\n",
       "      Duplex  Meublé  Parking  Sécurité  Terrasse  \n",
       "0          0       0        1         0         1  \n",
       "1          0       0        1         0         0  \n",
       "2          1       0        1         1         1  \n",
       "3          0       1        1         1         1  \n",
       "4          0       0        1         1         0  \n",
       "...      ...     ...      ...       ...       ...  \n",
       "1768       0       0        1         1         0  \n",
       "1769       0       0        1         0         0  \n",
       "1770       0       0        1         1         0  \n",
       "1771       0       0        1         1         0  \n",
       "1772       0       0        1         1         1  \n",
       "\n",
       "[1773 rows x 17 columns]"
      ]
     },
     "execution_count": 9,
     "metadata": {},
     "output_type": "execute_result"
    }
   ],
   "source": [
    "df.columns\n",
    "df"
   ]
  },
  {
   "cell_type": "markdown",
   "id": "f7be39c7",
   "metadata": {},
   "source": [
    "La colonne 'equipment' a déjà été transformée et supprimée.\n",
    "Rien à faire ici, le DataFrame df contient déjà les colonnes booléennes des équipements."
   ]
  },
  {
   "cell_type": "markdown",
   "id": "84413123",
   "metadata": {},
   "source": [
    "2. Conversion de price (type Objet → Float)"
   ]
  },
  {
   "cell_type": "code",
   "execution_count": 10,
   "id": "62f57cad",
   "metadata": {},
   "outputs": [
    {
     "name": "stdout",
     "output_type": "stream",
     "text": [
      "float64\n"
     ]
    }
   ],
   "source": [
    "df['price'] = df['price'].str.replace(r'[^\\d]', '', regex=True)  \n",
    "df['price'] = df['price'].astype(float)\n",
    "# Vérification\n",
    "print(df['price'].dtype)  # Doit afficher \"float64\"\n"
   ]
  },
  {
   "cell_type": "code",
   "execution_count": 12,
   "id": "cc5bdcfd",
   "metadata": {},
   "outputs": [
    {
     "data": {
      "text/plain": [
       "price              283\n",
       "city_name            1\n",
       "salon              153\n",
       "nb_rooms           283\n",
       "nb_baths           293\n",
       "surface_area        31\n",
       "Ascenseur            0\n",
       "Balcon               0\n",
       "Chauffage            0\n",
       "Climatisation        0\n",
       "Concierge            0\n",
       "Cuisine Équipée      0\n",
       "Duplex               0\n",
       "Meublé               0\n",
       "Parking              0\n",
       "Sécurité             0\n",
       "Terrasse             0\n",
       "dtype: int64"
      ]
     },
     "execution_count": 12,
     "metadata": {},
     "output_type": "execute_result"
    }
   ],
   "source": [
    "df.isnull().sum()"
   ]
  },
  {
   "cell_type": "markdown",
   "id": "d627dab0",
   "metadata": {},
   "source": [
    "3. Suppression des Colonnes Inutiles (equipment, link)"
   ]
  },
  {
   "cell_type": "code",
   "execution_count": 11,
   "id": "6629d2d9",
   "metadata": {},
   "outputs": [],
   "source": [
    "df.drop(['link'], axis=1, inplace=True, errors='ignore')"
   ]
  },
  {
   "cell_type": "markdown",
   "id": "9276d395",
   "metadata": {},
   "source": [
    "equipment déjà supprimé avant"
   ]
  },
  {
   "cell_type": "markdown",
   "id": "1499330a",
   "metadata": {},
   "source": [
    "4. Traitement de city_name (Uniformisation des Noms de Villes)"
   ]
  },
  {
   "cell_type": "code",
   "execution_count": 12,
   "id": "b688dcbf",
   "metadata": {},
   "outputs": [],
   "source": [
    "# afficher la liste des noms de ville dans une colonne du DataFrame\n",
    "df['ville'] = df['city_name'].str.split(',').str[0]"
   ]
  },
  {
   "cell_type": "code",
   "execution_count": 13,
   "id": "57c625c6",
   "metadata": {},
   "outputs": [
    {
     "name": "stdout",
     "output_type": "stream",
     "text": [
      "0        Casablanca\n",
      "1        Casablanca\n",
      "2       Dar Bouazza\n",
      "3        Casablanca\n",
      "4             Rabat\n",
      "           ...     \n",
      "1768         Agadir\n",
      "1769         Agadir\n",
      "1770         Temara\n",
      "1771     Casablanca\n",
      "1772         Temara\n",
      "Name: ville, Length: 1773, dtype: object\n"
     ]
    }
   ],
   "source": [
    "print(df['ville'])"
   ]
  },
  {
   "cell_type": "code",
   "execution_count": 14,
   "id": "dd48f0a8",
   "metadata": {},
   "outputs": [
    {
     "name": "stdout",
     "output_type": "stream",
     "text": [
      "['Agadir', 'Agadir Melloul', 'Ain Aouda', 'Ain Attig', 'Asilah', 'Benslimane', 'Berkane', 'Berrechid', 'Biougra', 'Bni Ansar', 'Bouskoura', 'Bouznika', 'Béni Mellal', 'Cabo Negro', 'Casablanca', 'Dakhla', 'Dar Bouazza', 'Dcheira', 'Dcheïra El Jihadia', 'Deroua', 'El Hajeb', 'El Jadida', 'El Ksiba', 'El Mansouria', 'El Menzeh', 'Essaouira', 'Fnideq', 'Fès', 'Had Soualem', 'Ifrane', 'Inzegan', 'Khemisset', 'Khouribga', 'Kénitra', 'Marrakech', 'Martil', 'Mdiq', 'Mehdia', 'Meknès', 'Mers El Kheir', 'Merzouga', 'Mohammedia', 'Nador', 'Nouaceur', 'Oued Laou', 'Oued Zem', 'Oujda', 'Rabat', 'Safi', 'Saidia', 'Salé', 'Sefrou', 'Selouane', 'Settat', 'Sidi Allal El Bahraoui', 'Sidi Bennour', 'Sidi Bouknadel', 'Sidi Rahal', 'Skhirat', 'Souk El Arbaa', 'Taghazout', 'Tamaris', 'Tamesna', 'Tanger', 'Taounate', 'Taza', 'Temara', 'Tit Mellil', 'Tiznit', 'Tétouan', 'أكادير', 'الدار البيضاء', 'الرباط', 'القنيطرة', 'المحمدية', 'طنجة', 'مراكش']\n"
     ]
    }
   ],
   "source": [
    "# supprimer les villes en double et ignorer les valeurs nan\n",
    "ville = [v for v in set(df['ville']) if pd.notnull(v)]\n",
    "ville.sort()\n",
    "print(ville)"
   ]
  },
  {
   "cell_type": "markdown",
   "id": "ed2eced4",
   "metadata": {},
   "source": [
    "Remplacer les noms arabes par leur équivalent français"
   ]
  },
  {
   "cell_type": "code",
   "execution_count": 15,
   "id": "d9006aff",
   "metadata": {},
   "outputs": [],
   "source": [
    "city_mapping = {\n",
    "    \"أكادير\" : \"Agadir\",\n",
    "    \"الرباط\" : \"Rabat\",\n",
    "    \"القنيطرة\" :\"kinetra\",\n",
    "    \"المحمدية\" : \"Mouhmadia\",\n",
    "    \"الدار البيضاء\": \"Casablanca\",\n",
    "    \"مراكش\": \"Marrakech\",\n",
    "    \"طنجة\": \"Tanger\",\n",
    "}\n",
    "\n",
    "df['city_name'] = df['city_name'].replace(city_mapping)"
   ]
  },
  {
   "cell_type": "markdown",
   "id": "a0d11156",
   "metadata": {},
   "source": [
    "Remplacer les valeurs manquantes par \"Unknown\""
   ]
  },
  {
   "cell_type": "code",
   "execution_count": 16,
   "id": "5f8b4f2d",
   "metadata": {},
   "outputs": [
    {
     "name": "stderr",
     "output_type": "stream",
     "text": [
      "C:\\Users\\PC\\AppData\\Local\\Temp\\ipykernel_18264\\4139866619.py:1: FutureWarning: A value is trying to be set on a copy of a DataFrame or Series through chained assignment using an inplace method.\n",
      "The behavior will change in pandas 3.0. This inplace method will never work because the intermediate object on which we are setting values always behaves as a copy.\n",
      "\n",
      "For example, when doing 'df[col].method(value, inplace=True)', try using 'df.method({col: value}, inplace=True)' or df[col] = df[col].method(value) instead, to perform the operation inplace on the original object.\n",
      "\n",
      "\n",
      "  df['city_name'] = df['city_name'].fillna(\"Unknown\", inplace=True)\n"
     ]
    }
   ],
   "source": [
    "df['city_name'] = df['city_name'].fillna(\"Unknown\", inplace=True)"
   ]
  },
  {
   "cell_type": "code",
   "execution_count": 17,
   "id": "8a68c3d1",
   "metadata": {},
   "outputs": [
    {
     "name": "stdout",
     "output_type": "stream",
     "text": [
      "[None]\n"
     ]
    }
   ],
   "source": [
    "print(df['city_name'].unique())  # Affiche les villes uniformisées"
   ]
  },
  {
   "cell_type": "markdown",
   "id": "c62a1f82",
   "metadata": {},
   "source": [
    "Gestion des valeurs manquantes\n",
    "- Pour les colonnes numériques : imputer les valeurs manquantes par la médiane.\n",
    "- Pour les colonnes catégorielles (chaînes de caractères) : imputer avec \"Unknown\"."
   ]
  },
  {
   "cell_type": "code",
   "execution_count": 18,
   "id": "9a93b019",
   "metadata": {},
   "outputs": [],
   "source": [
    "from sklearn.impute import SimpleImputer\n",
    "\n",
    "numeric_cols = df.select_dtypes(include=['int64', 'float64']).columns # Sélectionner uniquement les colonnes numériques\n",
    "\n",
    "numeric_cols = numeric_cols[numeric_cols != 'price'] # exclu price\n",
    "# suprimer les valeur nulle de price\n",
    "df.dropna(subset=['price'], inplace=True)\n",
    "\n",
    "imputer_median = SimpleImputer(strategy='median')\n",
    "df[numeric_cols] = imputer_median.fit_transform(df[numeric_cols])"
   ]
  },
  {
   "cell_type": "markdown",
   "id": "b8b864ee",
   "metadata": {},
   "source": [
    "2. Colonnes Catégorielles (Strings) → Imputation par \"Unknown\""
   ]
  },
  {
   "cell_type": "code",
   "execution_count": 19,
   "id": "8712af54",
   "metadata": {},
   "outputs": [],
   "source": [
    "categorical_cols = df.select_dtypes(include=['object', 'category']).columns # Sélectionner les colonnes catégorielles\n",
    "df[categorical_cols] = df[categorical_cols].fillna(\"Unknown\") # Remplacer les NaN par \"Unknown\""
   ]
  },
  {
   "cell_type": "code",
   "execution_count": 23,
   "id": "c8151852",
   "metadata": {},
   "outputs": [
    {
     "name": "stdout",
     "output_type": "stream",
     "text": [
      "Valeurs manquantes après imputation :\n",
      "price              0\n",
      "city_name          0\n",
      "salon              0\n",
      "nb_rooms           0\n",
      "nb_baths           0\n",
      "surface_area       0\n",
      "Ascenseur          0\n",
      "Balcon             0\n",
      "Chauffage          0\n",
      "Climatisation      0\n",
      "Concierge          0\n",
      "Cuisine Équipée    0\n",
      "Duplex             0\n",
      "Meublé             0\n",
      "Parking            0\n",
      "Sécurité           0\n",
      "Terrasse           0\n",
      "ville              0\n",
      "dtype: int64\n"
     ]
    }
   ],
   "source": [
    "print(\"Valeurs manquantes après imputation :\")\n",
    "print(df.isnull().sum())"
   ]
  },
  {
   "cell_type": "markdown",
   "id": "a639d151",
   "metadata": {},
   "source": [
    "Détection et suppression des valeurs aberrantes:\n",
    "- Utiliser des méthodes statistiques (boîtes à moustaches, z-score, IQR) pour détecter les outliers.\n",
    "- Supprimer les lignes contenant des valeurs aberrantes sur des colonnes clés (ex: price, surface_area, etc.)."
   ]
  },
  {
   "cell_type": "code",
   "execution_count": 20,
   "id": "d6d8a013",
   "metadata": {},
   "outputs": [
    {
     "name": "stdout",
     "output_type": "stream",
     "text": [
      "Taille avant/après : 1490 → 1362 lignes\n"
     ]
    }
   ],
   "source": [
    "import pandas as pd\n",
    "\n",
    "def remove_outliers_iqr(df, column):\n",
    "    Q1 = df[column].quantile(0.25)\n",
    "    Q3 = df[column].quantile(0.75)\n",
    "    IQR = Q3 - Q1\n",
    "    lower_bound = Q1 - 1.5 * IQR\n",
    "    upper_bound = Q3 + 1.5 * IQR\n",
    "    return df[(df[column] >= lower_bound) & (df[column] <= upper_bound)]\n",
    "\n",
    "df_clean = df.copy()\n",
    "for col in ['price', 'surface_area']:  # Colonnes à vérifier\n",
    "    df_clean = remove_outliers_iqr(df_clean, col)\n",
    "\n",
    "print(f\"Taille avant/après : {len(df)} → {len(df_clean)} lignes\")"
   ]
  },
  {
   "cell_type": "markdown",
   "id": "efe5472a",
   "metadata": {},
   "source": [
    "One-Hot Encoding (Dummy Encoding)\n",
    "Meilleur pour : Variables nominales sans hiérarchie (ex: couleurs, villes)"
   ]
  },
  {
   "cell_type": "code",
   "execution_count": 21,
   "id": "c1bd178b",
   "metadata": {},
   "outputs": [],
   "source": [
    "# Avec scikit-learn (meilleur pour les pipelines)\n",
    "from sklearn.preprocessing import OneHotEncoder\n",
    "\n",
    "encoder = OneHotEncoder(sparse_output=False, handle_unknown='ignore')\n",
    "encoded_data = encoder.fit_transform(df[['city_name']])"
   ]
  },
  {
   "cell_type": "markdown",
   "id": "e5c92d26",
   "metadata": {},
   "source": [
    "Encodage des variables catégorielles:\n",
    "--> Appliquer un Label Encoding selon le modèle utilisé, en particulier sur city_name."
   ]
  },
  {
   "cell_type": "code",
   "execution_count": 141,
   "id": "7db503ff",
   "metadata": {},
   "outputs": [],
   "source": [
    "# from sklearn.preprocessing import LabelEncoder\n",
    "\n",
    "# label_encoder = LabelEncoder() # Initialisation\n",
    "# df['city_name_encoded'] = label_encoder.fit_transform(df['city_name']) # Application sur 'city_name'\n",
    "# print(df[['city_name', 'city_name_encoded']].head()) # Vérification"
   ]
  },
  {
   "cell_type": "markdown",
   "id": "4e009a7d",
   "metadata": {},
   "source": [
    "Mise à l’échelle des variables: --> Appliquer une normalisation (MinMaxScaler) ou une standardisation (StandardScaler) sur les variables numériques pour harmoniser les échelles."
   ]
  },
  {
   "cell_type": "code",
   "execution_count": 22,
   "id": "5b028cb1",
   "metadata": {},
   "outputs": [
    {
     "name": "stdout",
     "output_type": "stream",
     "text": [
      "Colonnes numériques : ['price', 'salon', 'nb_rooms', 'nb_baths', 'surface_area', 'Ascenseur', 'Balcon', 'Chauffage', 'Climatisation', 'Concierge', 'Cuisine Équipée', 'Duplex', 'Meublé', 'Parking', 'Sécurité', 'Terrasse']\n",
      "              price         salon      nb_rooms      nb_baths  surface_area  \\\n",
      "count  1.490000e+03  1.490000e+03  1.490000e+03  1.490000e+03  1.490000e+03   \n",
      "mean   7.629989e-17 -1.812122e-16  1.096811e-16 -4.053432e-17 -1.239873e-16   \n",
      "std    1.000336e+00  1.000336e+00  1.000336e+00  1.000336e+00  1.000336e+00   \n",
      "min   -9.271102e-01 -2.439874e+00 -2.067960e+00 -3.032999e-01 -2.125640e+00   \n",
      "25%   -4.616742e-01 -4.842999e-01 -5.685633e-01 -1.717375e-01 -5.759140e-01   \n",
      "50%   -2.328871e-01 -4.842999e-01 -5.685633e-01 -4.017509e-02 -2.048527e-01   \n",
      "75%    1.773520e-01 -4.842999e-01  9.308337e-01 -4.017509e-02  3.626526e-01   \n",
      "max    1.800697e+01  7.337997e+00  6.928421e+00  1.732606e+01  1.225844e+01   \n",
      "\n",
      "          Ascenseur        Balcon     Chauffage  Climatisation     Concierge  \\\n",
      "count  1.490000e+03  1.490000e+03  1.490000e+03   1.490000e+03  1.490000e+03   \n",
      "mean  -5.722492e-17 -2.384372e-18  1.907497e-17   1.287561e-16 -2.861246e-17   \n",
      "std    1.000336e+00  1.000336e+00  1.000336e+00   1.000336e+00  1.000336e+00   \n",
      "min   -1.127538e+00 -1.204433e+00 -4.715012e-01  -6.651321e-01 -8.677218e-01   \n",
      "25%   -1.127538e+00 -1.204433e+00 -4.715012e-01  -6.651321e-01 -8.677218e-01   \n",
      "50%    8.868882e-01  8.302665e-01 -4.715012e-01  -6.651321e-01 -8.677218e-01   \n",
      "75%    8.868882e-01  8.302665e-01 -4.715012e-01   1.503461e+00  1.152443e+00   \n",
      "max    8.868882e-01  8.302665e-01  2.120885e+00   1.503461e+00  1.152443e+00   \n",
      "\n",
      "       Cuisine Équipée        Duplex        Meublé       Parking  \\\n",
      "count     1.490000e+03  1.490000e+03  1.490000e+03  1.490000e+03   \n",
      "mean     -3.814995e-17 -6.437803e-17  8.226082e-17  6.676240e-17   \n",
      "std       1.000336e+00  1.000336e+00  1.000336e+00  1.000336e+00   \n",
      "min      -1.048137e+00 -1.660910e-01 -3.345748e-01 -1.122943e+00   \n",
      "25%      -1.048137e+00 -1.660910e-01 -3.345748e-01 -1.122943e+00   \n",
      "50%       9.540736e-01 -1.660910e-01 -3.345748e-01  8.905170e-01   \n",
      "75%       9.540736e-01 -1.660910e-01 -3.345748e-01  8.905170e-01   \n",
      "max       9.540736e-01  6.020797e+00  2.988868e+00  8.905170e-01   \n",
      "\n",
      "           Sécurité      Terrasse  \n",
      "count  1.490000e+03  1.490000e+03  \n",
      "mean  -8.583738e-17 -1.907497e-17  \n",
      "std    1.000336e+00  1.000336e+00  \n",
      "min   -1.059484e+00 -8.760691e-01  \n",
      "25%   -1.059484e+00 -8.760691e-01  \n",
      "50%    9.438554e-01 -8.760691e-01  \n",
      "75%    9.438554e-01  1.141462e+00  \n",
      "max    9.438554e-01  1.141462e+00  \n"
     ]
    }
   ],
   "source": [
    "from sklearn.preprocessing import StandardScaler\n",
    "\n",
    "# Sélectionner uniquement les colonnes numériques\n",
    "numeric_cols = df.select_dtypes(include=['int64', 'float64']).columns\n",
    "print(\"Colonnes numériques :\", list(numeric_cols))\n",
    "\n",
    "# Initialisation + application\n",
    "scaler = StandardScaler()\n",
    "df[numeric_cols] = scaler.fit_transform(df[numeric_cols])\n",
    "\n",
    "# Vérification (moyenne ~0, écart-type ~1)\n",
    "print(df[numeric_cols].describe())"
   ]
  },
  {
   "cell_type": "code",
   "execution_count": 83,
   "id": "70e5ef1d",
   "metadata": {},
   "outputs": [
    {
     "name": "stdout",
     "output_type": "stream",
     "text": [
      "             price        salon     nb_rooms     nb_baths  surface_area  \\\n",
      "count  1773.000000  1773.000000  1773.000000  1773.000000   1773.000000   \n",
      "mean      0.047002     0.155527     0.219778     0.016841      0.001397   \n",
      "std       0.048639     0.067273     0.104525     0.052021      0.023842   \n",
      "min       0.000000     0.000000     0.000000     0.000000      0.000000   \n",
      "25%       0.027082     0.125000     0.166667     0.007463      0.000575   \n",
      "50%       0.036665     0.125000     0.166667     0.014925      0.000713   \n",
      "75%       0.053332     0.125000     0.333333     0.014925      0.000915   \n",
      "max       1.000000     1.000000     1.000000     1.000000      1.000000   \n",
      "\n",
      "         Ascenseur       Balcon    Chauffage  Climatisation    Concierge  \\\n",
      "count  1773.000000  1773.000000  1773.000000    1773.000000  1773.000000   \n",
      "mean      0.531867     0.573040     0.181613       0.306825     0.413988   \n",
      "std       0.499124     0.494776     0.385634       0.461306     0.492685   \n",
      "min       0.000000     0.000000     0.000000       0.000000     0.000000   \n",
      "25%       0.000000     0.000000     0.000000       0.000000     0.000000   \n",
      "50%       1.000000     1.000000     0.000000       0.000000     0.000000   \n",
      "75%       1.000000     1.000000     0.000000       1.000000     1.000000   \n",
      "max       1.000000     1.000000     1.000000       1.000000     1.000000   \n",
      "\n",
      "       Cuisine Équipée       Duplex       Meublé      Parking     Sécurité  \\\n",
      "count      1773.000000  1773.000000  1773.000000  1773.000000  1773.000000   \n",
      "mean          0.510434     0.027073     0.107727     0.538071     0.512126   \n",
      "std           0.500032     0.162341     0.310123     0.498689     0.499994   \n",
      "min           0.000000     0.000000     0.000000     0.000000     0.000000   \n",
      "25%           0.000000     0.000000     0.000000     0.000000     0.000000   \n",
      "50%           1.000000     0.000000     0.000000     1.000000     1.000000   \n",
      "75%           1.000000     0.000000     0.000000     1.000000     1.000000   \n",
      "max           1.000000     1.000000     1.000000     1.000000     1.000000   \n",
      "\n",
      "          Terrasse  city_name_encoded  \n",
      "count  1773.000000             1773.0  \n",
      "mean      0.415116                0.0  \n",
      "std       0.492881                0.0  \n",
      "min       0.000000                0.0  \n",
      "25%       0.000000                0.0  \n",
      "50%       0.000000                0.0  \n",
      "75%       1.000000                0.0  \n",
      "max       1.000000                0.0  \n"
     ]
    }
   ],
   "source": [
    "from sklearn.preprocessing import MinMaxScaler\n",
    "\n",
    "# Colonnes à normaliser (ex: [0, 1])\n",
    "scaler = MinMaxScaler(feature_range=(0, 1)) \n",
    "df[numeric_cols] = scaler.fit_transform(df[numeric_cols])\n",
    "\n",
    "# Vérification (valeurs entre 0 et 1)\n",
    "print(df[numeric_cols].describe())"
   ]
  },
  {
   "cell_type": "markdown",
   "id": "037cc4f3",
   "metadata": {},
   "source": [
    "Sélection des variables explicatives:\n",
    "- Choisir les variables numériques corrélées au prix (corr > 0.15).\n",
    "- Vérifier que les variables choisies ne sont pas fortement corrélées entre elles pour éviter la redondance."
   ]
  },
  {
   "cell_type": "code",
   "execution_count": 23,
   "id": "9f9ef1ed",
   "metadata": {},
   "outputs": [
    {
     "name": "stdout",
     "output_type": "stream",
     "text": [
      "Corrélation avec le prix :\n",
      " price              1.000000\n",
      "surface_area       0.471232\n",
      "nb_rooms           0.261319\n",
      "salon              0.195860\n",
      "Climatisation      0.185872\n",
      "Ascenseur          0.182841\n",
      "Chauffage          0.176639\n",
      "Parking            0.175639\n",
      "Terrasse           0.162155\n",
      "Concierge          0.113743\n",
      "Balcon             0.100544\n",
      "Cuisine Équipée    0.095898\n",
      "Sécurité           0.093647\n",
      "Duplex             0.082307\n",
      "Meublé             0.033656\n",
      "nb_baths           0.006046\n",
      "Name: price, dtype: float64\n",
      "\n",
      "Variables sélectionnées : ['surface_area', 'nb_rooms', 'salon', 'Climatisation', 'Ascenseur', 'Chauffage', 'Parking', 'Terrasse']\n"
     ]
    }
   ],
   "source": [
    "import pandas as pd\n",
    "import seaborn as sns\n",
    "import matplotlib.pyplot as plt\n",
    "\n",
    "# Calcul de la matrice de corrélation\n",
    "corr_matrix = df.corr(numeric_only=True)\n",
    "\n",
    "# Extraction des corrélations avec 'price'\n",
    "price_corr = corr_matrix['price'].sort_values(ascending=False)\n",
    "print(\"Corrélation avec le prix :\\n\", price_corr)\n",
    "\n",
    "# Sélection des variables avec |corr| > 0.15\n",
    "selected_vars = price_corr[abs(price_corr) > 0.15].index.tolist()\n",
    "selected_vars.remove('price')  # Exclure la cible elle-même\n",
    "print(\"\\nVariables sélectionnées :\", selected_vars)\n",
    " "
   ]
  },
  {
   "cell_type": "markdown",
   "id": "77e807a1",
   "metadata": {},
   "source": [
    "suppreimer les colonnes ( Concierge, Balcon, Cuisine Équipée, Sécurité, Duplex, Meublé, nb_baths)"
   ]
  },
  {
   "cell_type": "code",
   "execution_count": 24,
   "id": "d4fe713a",
   "metadata": {},
   "outputs": [],
   "source": [
    "# suppreimer les colonnes ( Concierge, Balcon, Cuisine Équipée, Sécurité, Duplex, Meublé, nb_baths)\n",
    "df = df.drop(['Concierge', 'Balcon', 'Cuisine Équipée','Sécurité', 'Duplex', 'Meublé', 'nb_baths'], axis=1)"
   ]
  },
  {
   "cell_type": "code",
   "execution_count": 25,
   "id": "96720472",
   "metadata": {},
   "outputs": [
    {
     "name": "stdout",
     "output_type": "stream",
     "text": [
      "Corrélation avec le prix :\n",
      " price            1.000000\n",
      "surface_area     0.471232\n",
      "nb_rooms         0.261319\n",
      "salon            0.195860\n",
      "Climatisation    0.185872\n",
      "Ascenseur        0.182841\n",
      "Chauffage        0.176639\n",
      "Parking          0.175639\n",
      "Terrasse         0.162155\n",
      "Name: price, dtype: float64\n",
      "\n",
      "Variables sélectionnées : ['surface_area', 'nb_rooms', 'salon', 'Climatisation', 'Ascenseur', 'Chauffage', 'Parking', 'Terrasse']\n"
     ]
    }
   ],
   "source": [
    "import pandas as pd\n",
    "import seaborn as sns\n",
    "import matplotlib.pyplot as plt\n",
    "\n",
    "# Calcul de la matrice de corrélation\n",
    "corr_matrix = df.corr(numeric_only=True)\n",
    "\n",
    "# Extraction des corrélations avec 'price'\n",
    "price_corr = corr_matrix['price'].sort_values(ascending=False)\n",
    "print(\"Corrélation avec le prix :\\n\", price_corr)\n",
    "\n",
    "# Sélection des variables avec |corr| > 0.15\n",
    "selected_vars = price_corr[abs(price_corr) > 0.15].index.tolist()\n",
    "selected_vars.remove('price')  # Exclure la cible elle-même\n",
    "print(\"\\nVariables sélectionnées :\", selected_vars)\n",
    " "
   ]
  },
  {
   "cell_type": "markdown",
   "id": "8abc2c7f",
   "metadata": {},
   "source": [
    "Séparation des données:\n",
    "- Définir la variable cible y = df[\"price\"].\n",
    "- Définir les variables explicatives X à partir des colonnes sélectionnées. \n",
    "- Diviser les données en ensemble d’entraînement et de test (80% / 20%) avec train_test_split."
   ]
  },
  {
   "cell_type": "code",
   "execution_count": 26,
   "id": "47b4b6a1",
   "metadata": {},
   "outputs": [
    {
     "name": "stdout",
     "output_type": "stream",
     "text": [
      "Dimensions de X : (1490, 8)\n",
      "Dimensions de y : (1490,)\n"
     ]
    }
   ],
   "source": [
    "import pandas as pd\n",
    "from sklearn.model_selection import train_test_split\n",
    "\n",
    "# Variable cible\n",
    "y = df[\"price\"] \n",
    "\n",
    "# Variables explicatives (colonnes sélectionnées par corrélation)\n",
    "# utiliser ['surface_area', 'nb_rooms', 'salon', 'Climatisation', 'Ascenseur', 'Chauffage', 'Parking', 'Terrasse']\n",
    "X = df[['surface_area', 'nb_rooms', 'salon', 'Climatisation',\n",
    "        'Ascenseur', 'Chauffage', 'Parking', 'Terrasse']]\n",
    "\n",
    "# Vérification\n",
    "print(\"Dimensions de X :\", X.shape)\n",
    "print(\"Dimensions de y :\", y.shape)"
   ]
  },
  {
   "cell_type": "markdown",
   "id": "a129a2e5",
   "metadata": {},
   "source": [
    "donc 1490 valeurs de prix et 8 features"
   ]
  },
  {
   "cell_type": "markdown",
   "id": "2c9e9605",
   "metadata": {},
   "source": [
    "Division en Train/Test (80%/20%)"
   ]
  },
  {
   "cell_type": "code",
   "execution_count": 27,
   "id": "40c0a8b5",
   "metadata": {},
   "outputs": [
    {
     "name": "stdout",
     "output_type": "stream",
     "text": [
      "Train set : (1192, 8) (1192,)\n",
      "Test set  : (298, 8) (298,)\n"
     ]
    }
   ],
   "source": [
    "X_train, X_test, y_train, y_test = train_test_split(\n",
    "    X, y, \n",
    "    test_size=0.2, \n",
    "    random_state=42 # Séparation aléatoire (avec random_state pour la reproductibilité)\n",
    ")\n",
    "\n",
    "# Vérification des tailles\n",
    "print(\"Train set :\", X_train.shape, y_train.shape)\n",
    "print(\"Test set  :\", X_test.shape, y_test.shape)"
   ]
  },
  {
   "cell_type": "markdown",
   "id": "c55db17e",
   "metadata": {},
   "source": [
    "donc (train 80% = 1192) et (test 20% = 298)"
   ]
  },
  {
   "cell_type": "markdown",
   "id": "975c4740",
   "metadata": {},
   "source": [
    "Entraîner et Évaluer les modèles à l’aide de métriques adaptées :\n",
    "- Régression Linéaire\n",
    "- Random Forest Regressor\n",
    "- SVR (Support Vector Regressor)\n",
    "- Gradient Boosting Regressor"
   ]
  },
  {
   "cell_type": "markdown",
   "id": "3929a56f",
   "metadata": {},
   "source": [
    "(1) Régression Linéaire"
   ]
  },
  {
   "cell_type": "code",
   "execution_count": 28,
   "id": "bee9057a",
   "metadata": {},
   "outputs": [
    {
     "name": "stdout",
     "output_type": "stream",
     "text": [
      "Linear Regression:\n",
      "MAE: 0.3666\n",
      "MSE: 0.5654\n",
      "R²: 0.1533\n"
     ]
    }
   ],
   "source": [
    "from sklearn.linear_model import LinearRegression\n",
    "from sklearn.metrics import mean_absolute_error, mean_squared_error, r2_score\n",
    "\n",
    "lr = LinearRegression()\n",
    "lr.fit(X_train, y_train)\n",
    "y_pred_lr = lr.predict(X_test)\n",
    "\n",
    "print(\"Linear Regression:\")\n",
    "print(f\"MAE: {mean_absolute_error(y_test, y_pred_lr):.4f}\")\n",
    "print(f\"MSE: {mean_squared_error(y_test, y_pred_lr):.4f}\")\n",
    "print(f\"R²: {r2_score(y_test, y_pred_lr):.4f}\")"
   ]
  },
  {
   "cell_type": "markdown",
   "id": "6b2ec98e",
   "metadata": {},
   "source": [
    "(2) Random Forest Regressor"
   ]
  },
  {
   "cell_type": "code",
   "execution_count": 29,
   "id": "27dc1feb",
   "metadata": {},
   "outputs": [
    {
     "name": "stdout",
     "output_type": "stream",
     "text": [
      "\n",
      "Random Forest:\n",
      "MAE: 0.48\n",
      "MSE: 1.06\n",
      "R²: -0.58\n"
     ]
    }
   ],
   "source": [
    "from sklearn.ensemble import RandomForestRegressor\n",
    "\n",
    "rf = RandomForestRegressor(n_estimators=100, random_state=42)\n",
    "rf.fit(X_train, y_train)  # Pas besoin de scaling pour les arbres\n",
    "y_pred_rf = rf.predict(X_test)\n",
    "\n",
    "print(\"\\nRandom Forest:\")\n",
    "print(f\"MAE: {mean_absolute_error(y_test, y_pred_rf):.2f}\")\n",
    "print(f\"MSE: {mean_squared_error(y_test, y_pred_rf):.2f}\")\n",
    "print(f\"R²: {r2_score(y_test, y_pred_rf):.2f}\")"
   ]
  },
  {
   "cell_type": "markdown",
   "id": "1c0956ae",
   "metadata": {},
   "source": [
    "(3) Support Vector Regressor (SVR)"
   ]
  },
  {
   "cell_type": "code",
   "execution_count": 30,
   "id": "c7b7748f",
   "metadata": {},
   "outputs": [
    {
     "name": "stdout",
     "output_type": "stream",
     "text": [
      "\n",
      "SVR:\n",
      "MAE: 0.35\n",
      "MSE: 0.55\n",
      "R²: 0.17\n"
     ]
    }
   ],
   "source": [
    "from sklearn.svm import SVR\n",
    "\n",
    "svr = SVR(kernel='rbf', C=1.0, epsilon=0.1)\n",
    "svr.fit(X_train, y_train)  # Scaling crucial pour SVR\n",
    "y_pred_svr = svr.predict(X_test)\n",
    "\n",
    "print(\"\\nSVR:\")\n",
    "print(f\"MAE: {mean_absolute_error(y_test, y_pred_svr):.2f}\")\n",
    "print(f\"MSE: {mean_squared_error(y_test, y_pred_svr):.2f}\")\n",
    "print(f\"R²: {r2_score(y_test, y_pred_svr):.2f}\")"
   ]
  },
  {
   "cell_type": "markdown",
   "id": "a1ee5648",
   "metadata": {},
   "source": [
    "(4) Gradient Boosting Regressor (GBR)"
   ]
  },
  {
   "cell_type": "code",
   "execution_count": 31,
   "id": "8293c97b",
   "metadata": {},
   "outputs": [
    {
     "name": "stdout",
     "output_type": "stream",
     "text": [
      "\n",
      "Gradient Boosting:\n",
      "MAE: 0.40\n",
      "MSE: 0.76\n",
      "R²: -0.13\n"
     ]
    }
   ],
   "source": [
    "from sklearn.ensemble import GradientBoostingRegressor\n",
    "\n",
    "gbr = GradientBoostingRegressor(n_estimators=100, learning_rate=0.1, random_state=42)\n",
    "gbr.fit(X_train, y_train)  # Pas besoin de scaling\n",
    "y_pred_gbr = gbr.predict(X_test)\n",
    "\n",
    "print(\"\\nGradient Boosting:\")\n",
    "print(f\"MAE: {mean_absolute_error(y_test, y_pred_gbr):.2f}\")\n",
    "print(f\"MSE: {mean_squared_error(y_test, y_pred_gbr):.2f}\")\n",
    "print(f\"R²: {r2_score(y_test, y_pred_gbr):.2f}\")"
   ]
  },
  {
   "cell_type": "markdown",
   "id": "a4bcff69",
   "metadata": {},
   "source": [
    "3. Comparaison des modèles"
   ]
  },
  {
   "cell_type": "code",
   "execution_count": 33,
   "id": "2533710b",
   "metadata": {},
   "outputs": [
    {
     "name": "stdout",
     "output_type": "stream",
     "text": [
      "\n",
      "Linear Regression:\n",
      "MAE: 0.37\n",
      "MSE: 0.57\n",
      "R²: 0.15\n",
      "\n",
      "Random Forest:\n",
      "MAE: 0.48\n",
      "MSE: 1.06\n",
      "R²: -0.58\n",
      "\n",
      "SVR:\n",
      "MAE: 0.35\n",
      "MSE: 0.55\n",
      "R²: 0.17\n",
      "\n",
      "Gradient Boosting:\n",
      "MAE: 0.40\n",
      "MSE: 0.76\n",
      "R²: -0.13\n"
     ]
    }
   ],
   "source": [
    "results = {\n",
    "    'Linear Regression': [y_pred_lr],\n",
    "    'Random Forest': [y_pred_rf],\n",
    "    'SVR': [y_pred_svr],\n",
    "    'Gradient Boosting': [y_pred_gbr]\n",
    "}\n",
    "\n",
    "for name, pred in results.items():\n",
    "    print(f\"\\n{name}:\")\n",
    "    print(f\"MAE: {mean_absolute_error(y_test, pred[0]):.2f}\")\n",
    "    print(f\"MSE: {mean_squared_error(y_test, pred[0]):.2f}\")\n",
    "    print(f\"R²: {r2_score(y_test, pred[0]):.2f}\")"
   ]
  },
  {
   "cell_type": "markdown",
   "id": "93e07148",
   "metadata": {},
   "source": [
    "SVR (Meilleur modèle)\n",
    "R² (0.169): Explique 16.9% de la variance des données.\n",
    "→ Bien que faible, c'est le seul modèle significativement meilleur qu'une moyenne naïve.\n",
    "MAE (0.346): Erreur absolue moyenne plus basse que les autres.\n"
   ]
  },
  {
   "cell_type": "markdown",
   "id": "5e2cedc7",
   "metadata": {},
   "source": [
    "Validation croisée -->Utiliser la validation croisée (cross-validation) pour évaluer la robustesse des modèles sur différentes portions du jeu de données."
   ]
  },
  {
   "cell_type": "code",
   "execution_count": 34,
   "id": "565dfcd8",
   "metadata": {},
   "outputs": [
    {
     "name": "stdout",
     "output_type": "stream",
     "text": [
      "Résultats moyens par fold (Test):\n",
      "R²: 0.23 (±0.10)\n",
      "MAE: 0.35 (±0.04)\n",
      "MSE: 0.81 (±0.43)\n",
      "\n",
      "Comparaison train/test (Overfitting check):\n",
      "Différence R² train-test: 0.12\n"
     ]
    }
   ],
   "source": [
    "from sklearn.svm import SVR\n",
    "from sklearn.model_selection import cross_val_score, KFold, cross_validate\n",
    "from sklearn.preprocessing import StandardScaler\n",
    "from sklearn.pipeline import make_pipeline\n",
    "import numpy as np\n",
    "\n",
    "# 1. Création du pipeline (standardisation + SVR)\n",
    "svr_pipeline = make_pipeline(\n",
    "    StandardScaler(),  # Crucial pour SVR\n",
    "    SVR(kernel='rbf', C=10, epsilon=0.1)  # Paramètres initiaux\n",
    ")\n",
    "\n",
    "# 2. Configuration de la validation croisée\n",
    "kf = KFold(n_splits=5, shuffle=True, random_state=42)  # 5 folds aléatoires\n",
    "\n",
    "# 3. Métriques à évaluer (R², MAE, MSE)\n",
    "scoring = {\n",
    "    'R2': 'r2',\n",
    "    'MAE': 'neg_mean_absolute_error',\n",
    "    'MSE': 'neg_mean_squared_error'\n",
    "}\n",
    "\n",
    "# 4. Exécution de la validation croisée\n",
    "cv_results = cross_validate(\n",
    "    svr_pipeline,\n",
    "    X,  # Vos features\n",
    "    y,  # Votre target\n",
    "    cv=kf,\n",
    "    scoring=scoring,\n",
    "    return_train_score=True  # Pour détecter overfitting\n",
    ")\n",
    "\n",
    "# 5. Affichage des résultats\n",
    "print(\"Résultats moyens par fold (Test):\")\n",
    "print(f\"R²: {np.mean(cv_results['test_R2']):.2f} (±{np.std(cv_results['test_R2']):.2f})\")\n",
    "print(f\"MAE: {-np.mean(cv_results['test_MAE']):.2f} (±{np.std(cv_results['test_MAE']):.2f})\")\n",
    "print(f\"MSE: {-np.mean(cv_results['test_MSE']):.2f} (±{np.std(cv_results['test_MSE']):.2f})\")\n",
    "\n",
    "print(\"\\nComparaison train/test (Overfitting check):\")\n",
    "print(f\"Différence R² train-test: {np.mean(cv_results['train_R2']) - np.mean(cv_results['test_R2']):.2f}\")"
   ]
  },
  {
   "cell_type": "code",
   "execution_count": 35,
   "id": "81e2b4aa",
   "metadata": {},
   "outputs": [
    {
     "name": "stdout",
     "output_type": "stream",
     "text": [
      "R² moyen (alternative): 0.25 ± 0.10\n"
     ]
    }
   ],
   "source": [
    "# Version alternative avec make_scorer (plus flexible)\n",
    "from sklearn.metrics import make_scorer\n",
    "r2_scorer = make_scorer(r2_score)\n",
    "scores_r2_alt = cross_val_score(lr, X, y, cv=5, scoring=r2_scorer)\n",
    "print(f\"R² moyen (alternative): {scores_r2_alt.mean():.2f} ± {scores_r2_alt.std():.2f}\")"
   ]
  },
  {
   "cell_type": "markdown",
   "id": "cf1f924f",
   "metadata": {},
   "source": [
    "Optimisation des hyperparamètres -->Utiliser GridSearchCV ou RandomizedSearchCV pour rechercher les meilleurs hyperparamètres pour chaque modèle."
   ]
  },
  {
   "cell_type": "code",
   "execution_count": 36,
   "id": "97cd6b6c",
   "metadata": {},
   "outputs": [
    {
     "data": {
      "text/html": [
       "<style>#sk-container-id-1 {\n",
       "  /* Definition of color scheme common for light and dark mode */\n",
       "  --sklearn-color-text: #000;\n",
       "  --sklearn-color-text-muted: #666;\n",
       "  --sklearn-color-line: gray;\n",
       "  /* Definition of color scheme for unfitted estimators */\n",
       "  --sklearn-color-unfitted-level-0: #fff5e6;\n",
       "  --sklearn-color-unfitted-level-1: #f6e4d2;\n",
       "  --sklearn-color-unfitted-level-2: #ffe0b3;\n",
       "  --sklearn-color-unfitted-level-3: chocolate;\n",
       "  /* Definition of color scheme for fitted estimators */\n",
       "  --sklearn-color-fitted-level-0: #f0f8ff;\n",
       "  --sklearn-color-fitted-level-1: #d4ebff;\n",
       "  --sklearn-color-fitted-level-2: #b3dbfd;\n",
       "  --sklearn-color-fitted-level-3: cornflowerblue;\n",
       "\n",
       "  /* Specific color for light theme */\n",
       "  --sklearn-color-text-on-default-background: var(--sg-text-color, var(--theme-code-foreground, var(--jp-content-font-color1, black)));\n",
       "  --sklearn-color-background: var(--sg-background-color, var(--theme-background, var(--jp-layout-color0, white)));\n",
       "  --sklearn-color-border-box: var(--sg-text-color, var(--theme-code-foreground, var(--jp-content-font-color1, black)));\n",
       "  --sklearn-color-icon: #696969;\n",
       "\n",
       "  @media (prefers-color-scheme: dark) {\n",
       "    /* Redefinition of color scheme for dark theme */\n",
       "    --sklearn-color-text-on-default-background: var(--sg-text-color, var(--theme-code-foreground, var(--jp-content-font-color1, white)));\n",
       "    --sklearn-color-background: var(--sg-background-color, var(--theme-background, var(--jp-layout-color0, #111)));\n",
       "    --sklearn-color-border-box: var(--sg-text-color, var(--theme-code-foreground, var(--jp-content-font-color1, white)));\n",
       "    --sklearn-color-icon: #878787;\n",
       "  }\n",
       "}\n",
       "\n",
       "#sk-container-id-1 {\n",
       "  color: var(--sklearn-color-text);\n",
       "}\n",
       "\n",
       "#sk-container-id-1 pre {\n",
       "  padding: 0;\n",
       "}\n",
       "\n",
       "#sk-container-id-1 input.sk-hidden--visually {\n",
       "  border: 0;\n",
       "  clip: rect(1px 1px 1px 1px);\n",
       "  clip: rect(1px, 1px, 1px, 1px);\n",
       "  height: 1px;\n",
       "  margin: -1px;\n",
       "  overflow: hidden;\n",
       "  padding: 0;\n",
       "  position: absolute;\n",
       "  width: 1px;\n",
       "}\n",
       "\n",
       "#sk-container-id-1 div.sk-dashed-wrapped {\n",
       "  border: 1px dashed var(--sklearn-color-line);\n",
       "  margin: 0 0.4em 0.5em 0.4em;\n",
       "  box-sizing: border-box;\n",
       "  padding-bottom: 0.4em;\n",
       "  background-color: var(--sklearn-color-background);\n",
       "}\n",
       "\n",
       "#sk-container-id-1 div.sk-container {\n",
       "  /* jupyter's `normalize.less` sets `[hidden] { display: none; }`\n",
       "     but bootstrap.min.css set `[hidden] { display: none !important; }`\n",
       "     so we also need the `!important` here to be able to override the\n",
       "     default hidden behavior on the sphinx rendered scikit-learn.org.\n",
       "     See: https://github.com/scikit-learn/scikit-learn/issues/21755 */\n",
       "  display: inline-block !important;\n",
       "  position: relative;\n",
       "}\n",
       "\n",
       "#sk-container-id-1 div.sk-text-repr-fallback {\n",
       "  display: none;\n",
       "}\n",
       "\n",
       "div.sk-parallel-item,\n",
       "div.sk-serial,\n",
       "div.sk-item {\n",
       "  /* draw centered vertical line to link estimators */\n",
       "  background-image: linear-gradient(var(--sklearn-color-text-on-default-background), var(--sklearn-color-text-on-default-background));\n",
       "  background-size: 2px 100%;\n",
       "  background-repeat: no-repeat;\n",
       "  background-position: center center;\n",
       "}\n",
       "\n",
       "/* Parallel-specific style estimator block */\n",
       "\n",
       "#sk-container-id-1 div.sk-parallel-item::after {\n",
       "  content: \"\";\n",
       "  width: 100%;\n",
       "  border-bottom: 2px solid var(--sklearn-color-text-on-default-background);\n",
       "  flex-grow: 1;\n",
       "}\n",
       "\n",
       "#sk-container-id-1 div.sk-parallel {\n",
       "  display: flex;\n",
       "  align-items: stretch;\n",
       "  justify-content: center;\n",
       "  background-color: var(--sklearn-color-background);\n",
       "  position: relative;\n",
       "}\n",
       "\n",
       "#sk-container-id-1 div.sk-parallel-item {\n",
       "  display: flex;\n",
       "  flex-direction: column;\n",
       "}\n",
       "\n",
       "#sk-container-id-1 div.sk-parallel-item:first-child::after {\n",
       "  align-self: flex-end;\n",
       "  width: 50%;\n",
       "}\n",
       "\n",
       "#sk-container-id-1 div.sk-parallel-item:last-child::after {\n",
       "  align-self: flex-start;\n",
       "  width: 50%;\n",
       "}\n",
       "\n",
       "#sk-container-id-1 div.sk-parallel-item:only-child::after {\n",
       "  width: 0;\n",
       "}\n",
       "\n",
       "/* Serial-specific style estimator block */\n",
       "\n",
       "#sk-container-id-1 div.sk-serial {\n",
       "  display: flex;\n",
       "  flex-direction: column;\n",
       "  align-items: center;\n",
       "  background-color: var(--sklearn-color-background);\n",
       "  padding-right: 1em;\n",
       "  padding-left: 1em;\n",
       "}\n",
       "\n",
       "\n",
       "/* Toggleable style: style used for estimator/Pipeline/ColumnTransformer box that is\n",
       "clickable and can be expanded/collapsed.\n",
       "- Pipeline and ColumnTransformer use this feature and define the default style\n",
       "- Estimators will overwrite some part of the style using the `sk-estimator` class\n",
       "*/\n",
       "\n",
       "/* Pipeline and ColumnTransformer style (default) */\n",
       "\n",
       "#sk-container-id-1 div.sk-toggleable {\n",
       "  /* Default theme specific background. It is overwritten whether we have a\n",
       "  specific estimator or a Pipeline/ColumnTransformer */\n",
       "  background-color: var(--sklearn-color-background);\n",
       "}\n",
       "\n",
       "/* Toggleable label */\n",
       "#sk-container-id-1 label.sk-toggleable__label {\n",
       "  cursor: pointer;\n",
       "  display: flex;\n",
       "  width: 100%;\n",
       "  margin-bottom: 0;\n",
       "  padding: 0.5em;\n",
       "  box-sizing: border-box;\n",
       "  text-align: center;\n",
       "  align-items: start;\n",
       "  justify-content: space-between;\n",
       "  gap: 0.5em;\n",
       "}\n",
       "\n",
       "#sk-container-id-1 label.sk-toggleable__label .caption {\n",
       "  font-size: 0.6rem;\n",
       "  font-weight: lighter;\n",
       "  color: var(--sklearn-color-text-muted);\n",
       "}\n",
       "\n",
       "#sk-container-id-1 label.sk-toggleable__label-arrow:before {\n",
       "  /* Arrow on the left of the label */\n",
       "  content: \"▸\";\n",
       "  float: left;\n",
       "  margin-right: 0.25em;\n",
       "  color: var(--sklearn-color-icon);\n",
       "}\n",
       "\n",
       "#sk-container-id-1 label.sk-toggleable__label-arrow:hover:before {\n",
       "  color: var(--sklearn-color-text);\n",
       "}\n",
       "\n",
       "/* Toggleable content - dropdown */\n",
       "\n",
       "#sk-container-id-1 div.sk-toggleable__content {\n",
       "  max-height: 0;\n",
       "  max-width: 0;\n",
       "  overflow: hidden;\n",
       "  text-align: left;\n",
       "  /* unfitted */\n",
       "  background-color: var(--sklearn-color-unfitted-level-0);\n",
       "}\n",
       "\n",
       "#sk-container-id-1 div.sk-toggleable__content.fitted {\n",
       "  /* fitted */\n",
       "  background-color: var(--sklearn-color-fitted-level-0);\n",
       "}\n",
       "\n",
       "#sk-container-id-1 div.sk-toggleable__content pre {\n",
       "  margin: 0.2em;\n",
       "  border-radius: 0.25em;\n",
       "  color: var(--sklearn-color-text);\n",
       "  /* unfitted */\n",
       "  background-color: var(--sklearn-color-unfitted-level-0);\n",
       "}\n",
       "\n",
       "#sk-container-id-1 div.sk-toggleable__content.fitted pre {\n",
       "  /* unfitted */\n",
       "  background-color: var(--sklearn-color-fitted-level-0);\n",
       "}\n",
       "\n",
       "#sk-container-id-1 input.sk-toggleable__control:checked~div.sk-toggleable__content {\n",
       "  /* Expand drop-down */\n",
       "  max-height: 200px;\n",
       "  max-width: 100%;\n",
       "  overflow: auto;\n",
       "}\n",
       "\n",
       "#sk-container-id-1 input.sk-toggleable__control:checked~label.sk-toggleable__label-arrow:before {\n",
       "  content: \"▾\";\n",
       "}\n",
       "\n",
       "/* Pipeline/ColumnTransformer-specific style */\n",
       "\n",
       "#sk-container-id-1 div.sk-label input.sk-toggleable__control:checked~label.sk-toggleable__label {\n",
       "  color: var(--sklearn-color-text);\n",
       "  background-color: var(--sklearn-color-unfitted-level-2);\n",
       "}\n",
       "\n",
       "#sk-container-id-1 div.sk-label.fitted input.sk-toggleable__control:checked~label.sk-toggleable__label {\n",
       "  background-color: var(--sklearn-color-fitted-level-2);\n",
       "}\n",
       "\n",
       "/* Estimator-specific style */\n",
       "\n",
       "/* Colorize estimator box */\n",
       "#sk-container-id-1 div.sk-estimator input.sk-toggleable__control:checked~label.sk-toggleable__label {\n",
       "  /* unfitted */\n",
       "  background-color: var(--sklearn-color-unfitted-level-2);\n",
       "}\n",
       "\n",
       "#sk-container-id-1 div.sk-estimator.fitted input.sk-toggleable__control:checked~label.sk-toggleable__label {\n",
       "  /* fitted */\n",
       "  background-color: var(--sklearn-color-fitted-level-2);\n",
       "}\n",
       "\n",
       "#sk-container-id-1 div.sk-label label.sk-toggleable__label,\n",
       "#sk-container-id-1 div.sk-label label {\n",
       "  /* The background is the default theme color */\n",
       "  color: var(--sklearn-color-text-on-default-background);\n",
       "}\n",
       "\n",
       "/* On hover, darken the color of the background */\n",
       "#sk-container-id-1 div.sk-label:hover label.sk-toggleable__label {\n",
       "  color: var(--sklearn-color-text);\n",
       "  background-color: var(--sklearn-color-unfitted-level-2);\n",
       "}\n",
       "\n",
       "/* Label box, darken color on hover, fitted */\n",
       "#sk-container-id-1 div.sk-label.fitted:hover label.sk-toggleable__label.fitted {\n",
       "  color: var(--sklearn-color-text);\n",
       "  background-color: var(--sklearn-color-fitted-level-2);\n",
       "}\n",
       "\n",
       "/* Estimator label */\n",
       "\n",
       "#sk-container-id-1 div.sk-label label {\n",
       "  font-family: monospace;\n",
       "  font-weight: bold;\n",
       "  display: inline-block;\n",
       "  line-height: 1.2em;\n",
       "}\n",
       "\n",
       "#sk-container-id-1 div.sk-label-container {\n",
       "  text-align: center;\n",
       "}\n",
       "\n",
       "/* Estimator-specific */\n",
       "#sk-container-id-1 div.sk-estimator {\n",
       "  font-family: monospace;\n",
       "  border: 1px dotted var(--sklearn-color-border-box);\n",
       "  border-radius: 0.25em;\n",
       "  box-sizing: border-box;\n",
       "  margin-bottom: 0.5em;\n",
       "  /* unfitted */\n",
       "  background-color: var(--sklearn-color-unfitted-level-0);\n",
       "}\n",
       "\n",
       "#sk-container-id-1 div.sk-estimator.fitted {\n",
       "  /* fitted */\n",
       "  background-color: var(--sklearn-color-fitted-level-0);\n",
       "}\n",
       "\n",
       "/* on hover */\n",
       "#sk-container-id-1 div.sk-estimator:hover {\n",
       "  /* unfitted */\n",
       "  background-color: var(--sklearn-color-unfitted-level-2);\n",
       "}\n",
       "\n",
       "#sk-container-id-1 div.sk-estimator.fitted:hover {\n",
       "  /* fitted */\n",
       "  background-color: var(--sklearn-color-fitted-level-2);\n",
       "}\n",
       "\n",
       "/* Specification for estimator info (e.g. \"i\" and \"?\") */\n",
       "\n",
       "/* Common style for \"i\" and \"?\" */\n",
       "\n",
       ".sk-estimator-doc-link,\n",
       "a:link.sk-estimator-doc-link,\n",
       "a:visited.sk-estimator-doc-link {\n",
       "  float: right;\n",
       "  font-size: smaller;\n",
       "  line-height: 1em;\n",
       "  font-family: monospace;\n",
       "  background-color: var(--sklearn-color-background);\n",
       "  border-radius: 1em;\n",
       "  height: 1em;\n",
       "  width: 1em;\n",
       "  text-decoration: none !important;\n",
       "  margin-left: 0.5em;\n",
       "  text-align: center;\n",
       "  /* unfitted */\n",
       "  border: var(--sklearn-color-unfitted-level-1) 1pt solid;\n",
       "  color: var(--sklearn-color-unfitted-level-1);\n",
       "}\n",
       "\n",
       ".sk-estimator-doc-link.fitted,\n",
       "a:link.sk-estimator-doc-link.fitted,\n",
       "a:visited.sk-estimator-doc-link.fitted {\n",
       "  /* fitted */\n",
       "  border: var(--sklearn-color-fitted-level-1) 1pt solid;\n",
       "  color: var(--sklearn-color-fitted-level-1);\n",
       "}\n",
       "\n",
       "/* On hover */\n",
       "div.sk-estimator:hover .sk-estimator-doc-link:hover,\n",
       ".sk-estimator-doc-link:hover,\n",
       "div.sk-label-container:hover .sk-estimator-doc-link:hover,\n",
       ".sk-estimator-doc-link:hover {\n",
       "  /* unfitted */\n",
       "  background-color: var(--sklearn-color-unfitted-level-3);\n",
       "  color: var(--sklearn-color-background);\n",
       "  text-decoration: none;\n",
       "}\n",
       "\n",
       "div.sk-estimator.fitted:hover .sk-estimator-doc-link.fitted:hover,\n",
       ".sk-estimator-doc-link.fitted:hover,\n",
       "div.sk-label-container:hover .sk-estimator-doc-link.fitted:hover,\n",
       ".sk-estimator-doc-link.fitted:hover {\n",
       "  /* fitted */\n",
       "  background-color: var(--sklearn-color-fitted-level-3);\n",
       "  color: var(--sklearn-color-background);\n",
       "  text-decoration: none;\n",
       "}\n",
       "\n",
       "/* Span, style for the box shown on hovering the info icon */\n",
       ".sk-estimator-doc-link span {\n",
       "  display: none;\n",
       "  z-index: 9999;\n",
       "  position: relative;\n",
       "  font-weight: normal;\n",
       "  right: .2ex;\n",
       "  padding: .5ex;\n",
       "  margin: .5ex;\n",
       "  width: min-content;\n",
       "  min-width: 20ex;\n",
       "  max-width: 50ex;\n",
       "  color: var(--sklearn-color-text);\n",
       "  box-shadow: 2pt 2pt 4pt #999;\n",
       "  /* unfitted */\n",
       "  background: var(--sklearn-color-unfitted-level-0);\n",
       "  border: .5pt solid var(--sklearn-color-unfitted-level-3);\n",
       "}\n",
       "\n",
       ".sk-estimator-doc-link.fitted span {\n",
       "  /* fitted */\n",
       "  background: var(--sklearn-color-fitted-level-0);\n",
       "  border: var(--sklearn-color-fitted-level-3);\n",
       "}\n",
       "\n",
       ".sk-estimator-doc-link:hover span {\n",
       "  display: block;\n",
       "}\n",
       "\n",
       "/* \"?\"-specific style due to the `<a>` HTML tag */\n",
       "\n",
       "#sk-container-id-1 a.estimator_doc_link {\n",
       "  float: right;\n",
       "  font-size: 1rem;\n",
       "  line-height: 1em;\n",
       "  font-family: monospace;\n",
       "  background-color: var(--sklearn-color-background);\n",
       "  border-radius: 1rem;\n",
       "  height: 1rem;\n",
       "  width: 1rem;\n",
       "  text-decoration: none;\n",
       "  /* unfitted */\n",
       "  color: var(--sklearn-color-unfitted-level-1);\n",
       "  border: var(--sklearn-color-unfitted-level-1) 1pt solid;\n",
       "}\n",
       "\n",
       "#sk-container-id-1 a.estimator_doc_link.fitted {\n",
       "  /* fitted */\n",
       "  border: var(--sklearn-color-fitted-level-1) 1pt solid;\n",
       "  color: var(--sklearn-color-fitted-level-1);\n",
       "}\n",
       "\n",
       "/* On hover */\n",
       "#sk-container-id-1 a.estimator_doc_link:hover {\n",
       "  /* unfitted */\n",
       "  background-color: var(--sklearn-color-unfitted-level-3);\n",
       "  color: var(--sklearn-color-background);\n",
       "  text-decoration: none;\n",
       "}\n",
       "\n",
       "#sk-container-id-1 a.estimator_doc_link.fitted:hover {\n",
       "  /* fitted */\n",
       "  background-color: var(--sklearn-color-fitted-level-3);\n",
       "}\n",
       "</style><div id=\"sk-container-id-1\" class=\"sk-top-container\"><div class=\"sk-text-repr-fallback\"><pre>RandomizedSearchCV(cv=5,\n",
       "                   estimator=Pipeline(steps=[(&#x27;standardscaler&#x27;,\n",
       "                                              StandardScaler()),\n",
       "                                             (&#x27;svr&#x27;, SVR(C=10))]),\n",
       "                   n_iter=50, n_jobs=-1,\n",
       "                   param_distributions={&#x27;svr__C&#x27;: &lt;scipy.stats._distn_infrastructure.rv_continuous_frozen object at 0x000002377D11FCB0&gt;,\n",
       "                                        &#x27;svr__epsilon&#x27;: &lt;scipy.stats._distn_infrastructure.rv_continuous_frozen object at 0x000002377D1FE490&gt;,\n",
       "                                        &#x27;svr__gamma&#x27;: &lt;scipy.stats._distn_infrastructure.rv_continuous_frozen object at 0x000002377D1FE5D0&gt;,\n",
       "                                        &#x27;svr__kernel&#x27;: [&#x27;rbf&#x27;, &#x27;linear&#x27;]},\n",
       "                   random_state=42, scoring=&#x27;neg_mean_squared_error&#x27;)</pre><b>In a Jupyter environment, please rerun this cell to show the HTML representation or trust the notebook. <br />On GitHub, the HTML representation is unable to render, please try loading this page with nbviewer.org.</b></div><div class=\"sk-container\" hidden><div class=\"sk-item sk-dashed-wrapped\"><div class=\"sk-label-container\"><div class=\"sk-label fitted sk-toggleable\"><input class=\"sk-toggleable__control sk-hidden--visually\" id=\"sk-estimator-id-1\" type=\"checkbox\" ><label for=\"sk-estimator-id-1\" class=\"sk-toggleable__label fitted sk-toggleable__label-arrow\"><div><div>RandomizedSearchCV</div></div><div><a class=\"sk-estimator-doc-link fitted\" rel=\"noreferrer\" target=\"_blank\" href=\"https://scikit-learn.org/1.6/modules/generated/sklearn.model_selection.RandomizedSearchCV.html\">?<span>Documentation for RandomizedSearchCV</span></a><span class=\"sk-estimator-doc-link fitted\">i<span>Fitted</span></span></div></label><div class=\"sk-toggleable__content fitted\"><pre>RandomizedSearchCV(cv=5,\n",
       "                   estimator=Pipeline(steps=[(&#x27;standardscaler&#x27;,\n",
       "                                              StandardScaler()),\n",
       "                                             (&#x27;svr&#x27;, SVR(C=10))]),\n",
       "                   n_iter=50, n_jobs=-1,\n",
       "                   param_distributions={&#x27;svr__C&#x27;: &lt;scipy.stats._distn_infrastructure.rv_continuous_frozen object at 0x000002377D11FCB0&gt;,\n",
       "                                        &#x27;svr__epsilon&#x27;: &lt;scipy.stats._distn_infrastructure.rv_continuous_frozen object at 0x000002377D1FE490&gt;,\n",
       "                                        &#x27;svr__gamma&#x27;: &lt;scipy.stats._distn_infrastructure.rv_continuous_frozen object at 0x000002377D1FE5D0&gt;,\n",
       "                                        &#x27;svr__kernel&#x27;: [&#x27;rbf&#x27;, &#x27;linear&#x27;]},\n",
       "                   random_state=42, scoring=&#x27;neg_mean_squared_error&#x27;)</pre></div> </div></div><div class=\"sk-parallel\"><div class=\"sk-parallel-item\"><div class=\"sk-item\"><div class=\"sk-label-container\"><div class=\"sk-label fitted sk-toggleable\"><input class=\"sk-toggleable__control sk-hidden--visually\" id=\"sk-estimator-id-2\" type=\"checkbox\" ><label for=\"sk-estimator-id-2\" class=\"sk-toggleable__label fitted sk-toggleable__label-arrow\"><div><div>best_estimator_: Pipeline</div></div></label><div class=\"sk-toggleable__content fitted\"><pre>Pipeline(steps=[(&#x27;standardscaler&#x27;, StandardScaler()),\n",
       "                (&#x27;svr&#x27;,\n",
       "                 SVR(C=np.float64(0.10609405001897938),\n",
       "                     epsilon=np.float64(0.3999220074578464),\n",
       "                     gamma=np.float64(0.019625093208439862),\n",
       "                     kernel=&#x27;linear&#x27;))])</pre></div> </div></div><div class=\"sk-serial\"><div class=\"sk-item\"><div class=\"sk-serial\"><div class=\"sk-item\"><div class=\"sk-estimator fitted sk-toggleable\"><input class=\"sk-toggleable__control sk-hidden--visually\" id=\"sk-estimator-id-3\" type=\"checkbox\" ><label for=\"sk-estimator-id-3\" class=\"sk-toggleable__label fitted sk-toggleable__label-arrow\"><div><div>StandardScaler</div></div><div><a class=\"sk-estimator-doc-link fitted\" rel=\"noreferrer\" target=\"_blank\" href=\"https://scikit-learn.org/1.6/modules/generated/sklearn.preprocessing.StandardScaler.html\">?<span>Documentation for StandardScaler</span></a></div></label><div class=\"sk-toggleable__content fitted\"><pre>StandardScaler()</pre></div> </div></div><div class=\"sk-item\"><div class=\"sk-estimator fitted sk-toggleable\"><input class=\"sk-toggleable__control sk-hidden--visually\" id=\"sk-estimator-id-4\" type=\"checkbox\" ><label for=\"sk-estimator-id-4\" class=\"sk-toggleable__label fitted sk-toggleable__label-arrow\"><div><div>SVR</div></div><div><a class=\"sk-estimator-doc-link fitted\" rel=\"noreferrer\" target=\"_blank\" href=\"https://scikit-learn.org/1.6/modules/generated/sklearn.svm.SVR.html\">?<span>Documentation for SVR</span></a></div></label><div class=\"sk-toggleable__content fitted\"><pre>SVR(C=np.float64(0.10609405001897938), epsilon=np.float64(0.3999220074578464),\n",
       "    gamma=np.float64(0.019625093208439862), kernel=&#x27;linear&#x27;)</pre></div> </div></div></div></div></div></div></div></div></div></div></div>"
      ],
      "text/plain": [
       "RandomizedSearchCV(cv=5,\n",
       "                   estimator=Pipeline(steps=[('standardscaler',\n",
       "                                              StandardScaler()),\n",
       "                                             ('svr', SVR(C=10))]),\n",
       "                   n_iter=50, n_jobs=-1,\n",
       "                   param_distributions={'svr__C': <scipy.stats._distn_infrastructure.rv_continuous_frozen object at 0x000002377D11FCB0>,\n",
       "                                        'svr__epsilon': <scipy.stats._distn_infrastructure.rv_continuous_frozen object at 0x000002377D1FE490>,\n",
       "                                        'svr__gamma': <scipy.stats._distn_infrastructure.rv_continuous_frozen object at 0x000002377D1FE5D0>,\n",
       "                                        'svr__kernel': ['rbf', 'linear']},\n",
       "                   random_state=42, scoring='neg_mean_squared_error')"
      ]
     },
     "execution_count": 36,
     "metadata": {},
     "output_type": "execute_result"
    }
   ],
   "source": [
    "from sklearn.model_selection import RandomizedSearchCV\n",
    "from scipy.stats import loguniform\n",
    "\n",
    "# Distributions pour tirage aléatoire\n",
    "param_dist = {\n",
    "    'svr__C': loguniform(1e-3, 1e3),  # Distribution logarithmique\n",
    "    'svr__epsilon': loguniform(0.01, 0.5),\n",
    "    'svr__kernel': ['rbf', 'linear'],\n",
    "    'svr__gamma': loguniform(1e-3, 1e1)\n",
    "}\n",
    "\n",
    "random_search = RandomizedSearchCV(\n",
    "    svr_pipeline,\n",
    "    param_distributions=param_dist,\n",
    "    n_iter=50,  # Nombre d'itérations aléatoires\n",
    "    cv=5,\n",
    "    scoring='neg_mean_squared_error',\n",
    "    random_state=42,\n",
    "    n_jobs=-1\n",
    ")\n",
    "random_search.fit(X_train, y_train)"
   ]
  },
  {
   "cell_type": "code",
   "execution_count": 41,
   "id": "13b075a1",
   "metadata": {},
   "outputs": [
    {
     "name": "stdout",
     "output_type": "stream",
     "text": [
      "                                               params  mean_test_score  \\\n",
      "38  {'svr__C': 0.10609405001897938, 'svr__epsilon'...        -0.821354   \n",
      "36  {'svr__C': 80.92609705736066, 'svr__epsilon': ...        -0.822229   \n",
      "32  {'svr__C': 378.6046242092869, 'svr__epsilon': ...        -0.825152   \n",
      "17  {'svr__C': 116.73553877431989, 'svr__epsilon':...        -0.825783   \n",
      "43  {'svr__C': 6.398940445046916, 'svr__epsilon': ...        -0.825886   \n",
      "\n",
      "    std_test_score  \n",
      "38        0.799273  \n",
      "36        0.801022  \n",
      "32        0.805245  \n",
      "17        0.805968  \n",
      "43        0.807654  \n"
     ]
    }
   ],
   "source": [
    "import pandas as pd\n",
    "\n",
    "# Pour SVR\n",
    "cv_results = pd.DataFrame(random_search.cv_results_)\n",
    "print(cv_results[['params', 'mean_test_score', 'std_test_score']].sort_values('mean_test_score', ascending=False).head())"
   ]
  },
  {
   "cell_type": "markdown",
   "id": "ac9b1748",
   "metadata": {},
   "source": [
    "Sauvegarder le modèle entraîné (model.pkl)"
   ]
  },
  {
   "cell_type": "code",
   "execution_count": null,
   "id": "45dd19fb",
   "metadata": {},
   "outputs": [],
   "source": [
    "import joblib\n",
    "joblib.dump(best_model, 'meilleur_modele_regression.pkl')"
   ]
  },
  {
   "cell_type": "markdown",
   "id": "0da2a747",
   "metadata": {},
   "source": []
  }
 ],
 "metadata": {
  "kernelspec": {
   "display_name": "base",
   "language": "python",
   "name": "python3"
  },
  "language_info": {
   "codemirror_mode": {
    "name": "ipython",
    "version": 3
   },
   "file_extension": ".py",
   "mimetype": "text/x-python",
   "name": "python",
   "nbconvert_exporter": "python",
   "pygments_lexer": "ipython3",
   "version": "3.13.5"
  }
 },
 "nbformat": 4,
 "nbformat_minor": 5
}
